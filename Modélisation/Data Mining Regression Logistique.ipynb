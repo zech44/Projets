{
 "cells": [
  {
   "cell_type": "code",
   "execution_count": 1,
   "id": "8fa7cf23-3158-4113-a20a-722680844cfa",
   "metadata": {},
   "outputs": [],
   "source": [
    "# Importation des bibliothèques \n",
    "import pandas as pd\n",
    "import numpy as np\n",
    "import matplotlib.pyplot as plt\n",
    "import seaborn as sns "
   ]
  },
  {
   "cell_type": "code",
   "execution_count": null,
   "id": "4a9be0c8-9235-4881-a7f6-3ea43a253523",
   "metadata": {},
   "outputs": [],
   "source": [
    "# Base de données\n",
    "titanic=sns.load_dataset(\"titanic\")\n",
    "titanic.head(5)"
   ]
  },
  {
   "cell_type": "code",
   "execution_count": null,
   "id": "374b99be-2167-49ff-a5e9-8a7e1723930a",
   "metadata": {
    "scrolled": true
   },
   "outputs": [],
   "source": [
    "#!pip install sweetviz"
   ]
  },
  {
   "cell_type": "code",
   "execution_count": null,
   "id": "59232c70-da91-400a-b880-8f2d2cbba1dc",
   "metadata": {},
   "outputs": [],
   "source": [
    "# Analyse exploratoire\n",
    "import sweetviz as sv\n",
    "rapport=sv.analyze(titanic)\n",
    "rapport.show_html(\"SUPER_RAPPORT_sweetviz.html\")\n"
   ]
  },
  {
   "cell_type": "code",
   "execution_count": null,
   "id": "9ee69cf0-5cb0-4b7f-9daa-73f557ed8ef3",
   "metadata": {},
   "outputs": [],
   "source": [
    "# Définissons notre modèle\n",
    "from sklearn.linear_model import LogisticRegression\n",
    "from sklearn.metrics import confusion_matrix, roc_curve, roc_auc_score, classification_report\n",
    "from sklearn.model_selection import train_test_split"
   ]
  },
  {
   "cell_type": "code",
   "execution_count": null,
   "id": "d9239e0b-082f-46af-ab37-73678c9ae39a",
   "metadata": {},
   "outputs": [],
   "source": [
    "# Supression des variables manquantes \n",
    "titanic = titanic[[\"survived\",\"pclass\",\"sex\",\"age\",\"fare\"]]\n",
    "titanic.dropna(inplace=True)"
   ]
  },
  {
   "cell_type": "code",
   "execution_count": null,
   "id": "471ad4fa-cc71-4e8e-a832-9de862089b94",
   "metadata": {},
   "outputs": [],
   "source": [
    "# Encodage de la variable sex\n",
    "titanic[\"sex\"]=titanic[\"sex\"].map({\"male\": 0, \"female\": 1})"
   ]
  },
  {
   "cell_type": "code",
   "execution_count": null,
   "id": "1fafea0d-ba45-4f50-98b3-4c2fd8799eea",
   "metadata": {},
   "outputs": [],
   "source": [
    "# choisissons nos variables\n",
    "X=titanic[[\"pclass\",\"sex\",\"age\",\"fare\"]]\n",
    "Y=titanic[\"survived\"]"
   ]
  },
  {
   "cell_type": "code",
   "execution_count": null,
   "id": "5409ad59-56dc-419e-89cc-cd9294eb8d51",
   "metadata": {},
   "outputs": [],
   "source": [
    "# séparation train test (validation croisée)\n",
    "X_train, X_test, Y_train, Y_test =train_test_split(X,Y ,train_size=0.2, test_size=0.8, random_state=42)"
   ]
  },
  {
   "cell_type": "code",
   "execution_count": null,
   "id": "d9dd7fcf-8f5a-4574-b405-cfc175b6cf8f",
   "metadata": {},
   "outputs": [],
   "source": [
    "# Le modèle\n",
    "logit=LogisticRegression()\n",
    "logit.fit(X_train, Y_train)"
   ]
  },
  {
   "cell_type": "code",
   "execution_count": null,
   "id": "be3da287-57e5-4412-aa99-79ebd912e889",
   "metadata": {},
   "outputs": [],
   "source": [
    "# Prédiction \n",
    "Y_pred=logit.predict(X_test)\n",
    "Y_prob=logit.predict_proba(X_test)[:,1]"
   ]
  },
  {
   "cell_type": "code",
   "execution_count": null,
   "id": "e1096291-cb15-495c-a69e-5715cbbbc0a7",
   "metadata": {},
   "outputs": [],
   "source": [
    "# Evaluation du modèle \n",
    "print(confusion_matrix(Y_test,Y_pred))\n",
    "print(roc_auc_score(Y_test, Y_prob))"
   ]
  },
  {
   "cell_type": "code",
   "execution_count": null,
   "id": "e578e453-6835-4d8d-a0aa-64e1e0451562",
   "metadata": {},
   "outputs": [],
   "source": [
    "np.shape(roc_curve(Y_test, Y_prob))"
   ]
  },
  {
   "cell_type": "code",
   "execution_count": null,
   "id": "b0c3562f-9596-45e1-a111-d2c505098d31",
   "metadata": {},
   "outputs": [],
   "source": [
    "var1, var2, var3 = roc_curve(Y_test, Y_prob) \n",
    "plt.plot(var1, var2,label =f\" AUC={roc_auc_score(Y_test, Y_prob):.2f}\" )\n",
    "plt.plot([0,1],[0,1])\n",
    "plt.xlabel(\"Taux de faux positifs : var1\")\n",
    "plt.ylabel(\"Taux de vrais positifs : var2\")\n",
    "plt.title(\"Courbe ROC\")\n",
    "plt.legend(loc=\"upper left\")"
   ]
  },
  {
   "cell_type": "code",
   "execution_count": null,
   "id": "861a0ac1-eba9-46aa-90d7-2ca9061cc6a0",
   "metadata": {},
   "outputs": [],
   "source": [
    "print(\"Précision\", )\n",
    "print(\"Accuracy\")\n",
    "print(\"Rappel\")\n",
    "print(\"F1-score\")"
   ]
  },
  {
   "cell_type": "code",
   "execution_count": null,
   "id": "e513ef05-bc26-4034-8118-c9e117154f66",
   "metadata": {},
   "outputs": [],
   "source": [
    "print(classification_report(Y_test,Y_pred))"
   ]
  }
 ],
 "metadata": {
  "kernelspec": {
   "display_name": "Python 3 (ipykernel)",
   "language": "python",
   "name": "python3"
  },
  "language_info": {
   "codemirror_mode": {
    "name": "ipython",
    "version": 3
   },
   "file_extension": ".py",
   "mimetype": "text/x-python",
   "name": "python",
   "nbconvert_exporter": "python",
   "pygments_lexer": "ipython3",
   "version": "3.11.7"
  }
 },
 "nbformat": 4,
 "nbformat_minor": 5
}
