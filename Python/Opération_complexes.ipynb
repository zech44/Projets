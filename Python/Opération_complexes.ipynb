{
 "cells": [
  {
   "cell_type": "markdown",
   "metadata": {},
   "source": [
    "# Partie 1"
   ]
  },
  {
   "cell_type": "markdown",
   "metadata": {},
   "source": [
    "# Nom et Prénoms : N'DRI KOFFI Pierre Ezéchiel"
   ]
  },
  {
   "cell_type": "markdown",
   "metadata": {},
   "source": [
    "#### Exercice 1 - Manipulations de vecteurs"
   ]
  },
  {
   "cell_type": "markdown",
   "metadata": {},
   "source": [
    "On donne :\n",
    "$$\n",
    "u1 = \n",
    "\\begin{bmatrix}\n",
    "1 \\\\\n",
    "2 \\\\\n",
    "3\n",
    "\\end{bmatrix}\n",
    "\n",
    "u2 = \n",
    "\\begin{bmatrix}\n",
    "-5 \\\\\n",
    "2 \\\\\n",
    "1\n",
    "\\end{bmatrix}\n",
    "\n",
    "u3 = \n",
    "\\begin{bmatrix}\n",
    "-1 \\\\\n",
    "-3 \\\\\n",
    "7\n",
    "\\end{bmatrix}\n",
    "$$\n",
    "\n",
    "1. Définir ces vecteur.\n",
    "2. Calculer u<sub>1</sub> + u<sub>2</sub>,u<sub>1</sub> + 3u<sub>2</sub> − 5u<sub>3</sub>,u<sub>3</sub>/5\n",
    "3. Calculer le produit des compansantes des vecteur u<sub>1</sub> et u<sub>2</sub>, terme à terme.\n",
    "4. Calculer les produits u<sup>T</sup><sub>1</sub> u<sub>2</sub> et u<sub>1</sub> u<sup>T</sup><sub>2</sub>.\n",
    "5. Crée par concaténation la matrice :\n",
    "$$\n",
    "\\begin{bmatrix}\n",
    "1 & -5 &-1 \\\\\n",
    "2 & 2 &-3 \\\\\n",
    "3 & 1 & 7\n",
    "\\end{bmatrix}\n",
    "$$\n"
   ]
  },
  {
   "cell_type": "markdown",
   "metadata": {},
   "source": [
    "1. Définissons ces vecteurs:"
   ]
  },
  {
   "cell_type": "code",
   "execution_count": 1,
   "metadata": {},
   "outputs": [
    {
     "data": {
      "text/plain": [
       "(array([1, 2, 3]),\n",
       " array([[-5],\n",
       "        [ 2],\n",
       "        [ 1]]),\n",
       " array([[-1],\n",
       "        [-3],\n",
       "        [ 7]]))"
      ]
     },
     "execution_count": 1,
     "metadata": {},
     "output_type": "execute_result"
    }
   ],
   "source": [
    "#importons la bibliothèque qui nous permettra de créer ces vecteurs et de travailler sur eux\n",
    "import numpy as np\n",
    "#Définissons les vecteurs\n",
    "u1 = np.array([1,2,3])\n",
    "u2 = np.array([-5, 2, 1]).reshape((3,1))\n",
    "u3 = np.array([-1, -3, 7]).reshape((3,1))\n",
    "\n",
    "#affichons les différents vecteurs\n",
    "u1, u2, u3"
   ]
  },
  {
   "cell_type": "markdown",
   "metadata": {},
   "source": [
    "2. Calculons u<sub>1</sub> + u<sub>2</sub>,u<sub>1</sub> + 3u<sub>2</sub> − 5u<sub>3</sub>,u<sub>3</sub>/5"
   ]
  },
  {
   "cell_type": "code",
   "execution_count": 2,
   "metadata": {},
   "outputs": [
    {
     "name": "stdout",
     "output_type": "stream",
     "text": [
      "Le résultat de l'opération u_(1) + u_(2) est : \n",
      " [[-4 -3 -2]\n",
      " [ 3  4  5]\n",
      " [ 2  3  4]]\n",
      "Le résultat de l'opération u_(1) + 3u_(2) - 5u_(3) est : \n",
      " [[ -9  -8  -7]\n",
      " [ 22  23  24]\n",
      " [-31 -30 -29]]\n",
      "Le résultat de l'opération u_(3)/5 est : \n",
      " [[-0.2]\n",
      " [-0.6]\n",
      " [ 1.4]]\n"
     ]
    }
   ],
   "source": [
    "print(\"Le résultat de l'opération u_(1) + u_(2) est : \\n {}\".format(u1 + u2))\n",
    "print(\"Le résultat de l'opération u_(1) + 3u_(2) - 5u_(3) est : \\n {}\".format(u1 + 3*u2 - 5*u3))\n",
    "print(\"Le résultat de l'opération u_(3)/5 est : \\n {}\".format(u3 / 5))"
   ]
  },
  {
   "cell_type": "markdown",
   "metadata": {},
   "source": [
    "3. Calculons le produit des compansantes des vecteur u<sub>1</sub> et u<sub>2</sub>, terme à terme."
   ]
  },
  {
   "cell_type": "code",
   "execution_count": 3,
   "metadata": {},
   "outputs": [
    {
     "data": {
      "text/plain": [
       "array([[ -5, -10, -15],\n",
       "       [  2,   4,   6],\n",
       "       [  1,   2,   3]])"
      ]
     },
     "execution_count": 3,
     "metadata": {},
     "output_type": "execute_result"
    }
   ],
   "source": [
    "u1 * u2"
   ]
  },
  {
   "cell_type": "markdown",
   "metadata": {},
   "source": [
    "4. Calculons les produits u<sup>T</sup><sub>1</sub> u<sub>2</sub> et u<sub>1</sub> u<sup>T</sup><sub>2</sub>."
   ]
  },
  {
   "cell_type": "code",
   "execution_count": 4,
   "metadata": {},
   "outputs": [
    {
     "name": "stdout",
     "output_type": "stream",
     "text": [
      "Le produit uT1*u2 donne : \n",
      " [[-5]\n",
      " [ 4]\n",
      " [ 3]]\n",
      "Le produit u1*uT2 donne : \n",
      " [[ -5 -10 -15]\n",
      " [  2   4   6]\n",
      " [  1   2   3]]\n"
     ]
    }
   ],
   "source": [
    "u1T = u1.reshape(3,1)\n",
    "u2T = u2.reshape(3,1)\n",
    "print(\"Le produit uT1*u2 donne : \\n {}\".format(u1T * u2))\n",
    "print(\"Le produit u1*uT2 donne : \\n {}\".format(u1 * u2T))"
   ]
  },
  {
   "cell_type": "markdown",
   "metadata": {},
   "source": [
    "5. Créons par concaténation la matrice :"
   ]
  },
  {
   "cell_type": "code",
   "execution_count": 5,
   "metadata": {},
   "outputs": [
    {
     "data": {
      "text/plain": [
       "array([[ 1, -5, -1],\n",
       "       [ 2,  2, -3],\n",
       "       [ 3,  1,  7]])"
      ]
     },
     "execution_count": 5,
     "metadata": {},
     "output_type": "execute_result"
    }
   ],
   "source": [
    "np.concatenate((u1T, u2, u3)).reshape((3, 3)).T"
   ]
  },
  {
   "cell_type": "code",
   "execution_count": 6,
   "metadata": {},
   "outputs": [
    {
     "data": {
      "text/plain": [
       "array([[ 1, -5, -1],\n",
       "       [ 2,  2, -3],\n",
       "       [ 3,  1,  7]])"
      ]
     },
     "execution_count": 6,
     "metadata": {},
     "output_type": "execute_result"
    }
   ],
   "source": [
    "np.hstack((u1.reshape((3, 1)), u2, u3))"
   ]
  },
  {
   "cell_type": "markdown",
   "metadata": {},
   "source": [
    "#### Exercice 2 - Opérations matricielles\n"
   ]
  },
  {
   "cell_type": "markdown",
   "metadata": {},
   "source": [
    "Soit le vecteur \n",
    "$$\n",
    "u = \n",
    "\\begin{bmatrix}\n",
    "1 \\\\\n",
    "2 \\\\\n",
    "-5 \\\\\n",
    "2 \\\\\n",
    "-1 \\\\\n",
    "-3\n",
    "\\end{bmatrix}\n",
    "$$\n",
    "\n",
    "1. Calculer la somme des composantes du vecteur u sans utiliser la fonction <code>sum</code> de <code>numpy</code>\n",
    "2. Calculer le produit des composantes du vecteur u sans utiliser la fonction <code>prod</code> de <code>numpy</code>"
   ]
  },
  {
   "cell_type": "code",
   "execution_count": 7,
   "metadata": {},
   "outputs": [
    {
     "name": "stdout",
     "output_type": "stream",
     "text": [
      "1. La somme des composantes du vecteur u est : [-4]\n",
      "2. Le produit des composantes du vecteur u est : [-60]\n"
     ]
    }
   ],
   "source": [
    "u = np.array([1, 2, -5, 2, -1, -3]).reshape((6, 1))\n",
    "somme = 0\n",
    "produit = 1\n",
    "for i in u :\n",
    "    somme += i\n",
    "    produit *= i\n",
    "print(\"1. La somme des composantes du vecteur u est : {}\".format(somme))\n",
    "print(\"2. Le produit des composantes du vecteur u est : {}\".format(produit))"
   ]
  },
  {
   "cell_type": "markdown",
   "metadata": {},
   "source": [
    "#### Exercice 3"
   ]
  },
  {
   "cell_type": "markdown",
   "metadata": {},
   "source": [
    "Considérons le vecteur suivant : \n",
    "$$\n",
    "x = \n",
    "\\begin{bmatrix}\n",
    "1 & 2 & 3 & 4 & 5\n",
    "\\end{bmatrix}\n",
    "$$\n",
    "\n",
    "1. Créer ce vecteur à l’aide d’un tableau que l’on appellera x.\n",
    "2. Afficher le type de x puis sa longueur.\n",
    "3. Extraire le premier élément, puis en faire de même avec le dernier.\n",
    "4. Extraire les trois premiers éléments et les stocker dans un vecteur que l’on nommera a.\n",
    "5. Extraire les 1er, 2e et 5e éléments du vecteur (attention aux positions) ; les stocker dans un vecteur que l’on nommera b.\n",
    "6. Additionner le nombre 10 au vecteur x, puis multiplier le résultat par 2.\n",
    "7. Effectuer l’addition de a et b, commenter le résultat.\n",
    "8. Effectuer l’addition suivante : x+a ; commenter le résultat, puis regarder le résultat de a+x.\n",
    "9. Multiplier le vecteur par le scalaire c que l’on fixera à 2.\n",
    "10. Effectuer la multiplication de a et b ; commenter le résultat.\n",
    "11. Effectier la multiplication suivante : x*a ; commenter le résultats.\n",
    "12. Récupérer les positions des multiples de 2 et les stocker dans un vecteur que l’on nommera ind, piuis conserver uniquement les multiples de 2 de x dans un vecteur que l’on nommera mult_2.\n",
    "13. Afficher les éléments de x qui sont multiples de 3 et multiples de 2.\n",
    "14. Afficher les éléments de x qui sont multiples de 3 ou multiples de 2.\n",
    "15. Calculer la somme des éléments de x.\n",
    "16. Remplacer le premier élément de x par un 4.\n",
    "17. Remplacer le premier élément de x par la valeur NaN, puis calculer la somme des éléments de x. \n",
    "18. Supprimer le vecteur x."
   ]
  },
  {
   "cell_type": "markdown",
   "metadata": {},
   "source": [
    "1. Créer ce vecteur à l’aide d’un tableau que l’on appellera x."
   ]
  },
  {
   "cell_type": "code",
   "execution_count": 8,
   "metadata": {},
   "outputs": [
    {
     "data": {
      "text/plain": [
       "array([1, 2, 3, 4, 5])"
      ]
     },
     "execution_count": 8,
     "metadata": {},
     "output_type": "execute_result"
    }
   ],
   "source": [
    "x = np.arange(1, 6)\n",
    "x"
   ]
  },
  {
   "cell_type": "markdown",
   "metadata": {},
   "source": [
    "2. Afficher le type de x puis sa longueur."
   ]
  },
  {
   "cell_type": "code",
   "execution_count": 9,
   "metadata": {},
   "outputs": [
    {
     "name": "stdout",
     "output_type": "stream",
     "text": [
      "Le type de x est <class 'numpy.ndarray'> et la longueur de x est 5\n"
     ]
    }
   ],
   "source": [
    "print(\"Le type de x est {} et la longueur de x est {}\".format(type(x),len(x)))"
   ]
  },
  {
   "cell_type": "markdown",
   "metadata": {},
   "source": [
    "3. Extraire le premier élément, puis en faire de même avec le dernier."
   ]
  },
  {
   "cell_type": "code",
   "execution_count": 10,
   "metadata": {},
   "outputs": [
    {
     "name": "stdout",
     "output_type": "stream",
     "text": [
      "Le premier élément est 1\n",
      "Le dernier élément est 5\n"
     ]
    }
   ],
   "source": [
    "#Extraction du premier élément\n",
    "print(\"Le premier élément est {}\".format(x[0]))\n",
    "#Extraction du dernier élément\n",
    "print(\"Le dernier élément est {}\".format(x[4]))"
   ]
  },
  {
   "cell_type": "markdown",
   "metadata": {},
   "source": [
    "4. Extraire les trois premiers éléments et les stocker dans un vecteur que l’on nommera a."
   ]
  },
  {
   "cell_type": "code",
   "execution_count": 11,
   "metadata": {},
   "outputs": [
    {
     "data": {
      "text/plain": [
       "array([1, 2, 3])"
      ]
     },
     "execution_count": 11,
     "metadata": {},
     "output_type": "execute_result"
    }
   ],
   "source": [
    "a = x[0:3]\n",
    "a"
   ]
  },
  {
   "cell_type": "markdown",
   "metadata": {},
   "source": [
    "5. Extraire les 1er, 2e et 5e éléments du vecteur (attention aux positions) ; les stocker dans un vecteur que l’on nommera b."
   ]
  },
  {
   "cell_type": "code",
   "execution_count": 12,
   "metadata": {},
   "outputs": [
    {
     "data": {
      "text/plain": [
       "array([1, 2, 5])"
      ]
     },
     "execution_count": 12,
     "metadata": {},
     "output_type": "execute_result"
    }
   ],
   "source": [
    "indice = [0, 1, 4]\n",
    "b = x[indice]\n",
    "b"
   ]
  },
  {
   "cell_type": "markdown",
   "metadata": {},
   "source": [
    "6. Additionner le nombre 10 au vecteur x, puis multiplier le résultat par 2."
   ]
  },
  {
   "cell_type": "code",
   "execution_count": 13,
   "metadata": {},
   "outputs": [
    {
     "data": {
      "text/plain": [
       "array([22, 24, 26, 28, 30])"
      ]
     },
     "execution_count": 13,
     "metadata": {},
     "output_type": "execute_result"
    }
   ],
   "source": [
    "(10 + x) * 2"
   ]
  },
  {
   "cell_type": "markdown",
   "metadata": {},
   "source": [
    "7. Effectuer l’addition de a et b, commenter le résultat."
   ]
  },
  {
   "cell_type": "code",
   "execution_count": 14,
   "metadata": {},
   "outputs": [
    {
     "data": {
      "text/plain": [
       "array([2, 4, 8])"
      ]
     },
     "execution_count": 14,
     "metadata": {},
     "output_type": "execute_result"
    }
   ],
   "source": [
    "a + b"
   ]
  },
  {
   "cell_type": "markdown",
   "metadata": {},
   "source": [
    "8. Effectuer l’addition suivante : x+a ; commenter le résultat, puis regarder le résultat de a+x."
   ]
  },
  {
   "cell_type": "code",
   "execution_count": 15,
   "metadata": {},
   "outputs": [
    {
     "name": "stdout",
     "output_type": "stream",
     "text": [
      "Erreur dans x + a : operands could not be broadcast together with shapes (5,) (3,) \n",
      "Erreur dans a + x : operands could not be broadcast together with shapes (3,) (5,) \n"
     ]
    }
   ],
   "source": [
    "try:\n",
    "    somme_x_a = x + a\n",
    "    print(\"Addition de x et a :\", somme_x_a)\n",
    "except ValueError as e:\n",
    "    print(\"Erreur dans x + a :\", e)\n",
    "\n",
    "try:\n",
    "    somme_a_x = a + x\n",
    "    print(\"Addition de a et x :\", somme_a_x)\n",
    "except ValueError as e:\n",
    "    print(\"Erreur dans a + x :\", e)"
   ]
  },
  {
   "cell_type": "markdown",
   "metadata": {},
   "source": [
    "9. Multiplier le vecteur par le scalaire c que l’on fixera à 2."
   ]
  },
  {
   "cell_type": "code",
   "execution_count": 16,
   "metadata": {},
   "outputs": [
    {
     "data": {
      "text/plain": [
       "array([ 2,  4,  6,  8, 10])"
      ]
     },
     "execution_count": 16,
     "metadata": {},
     "output_type": "execute_result"
    }
   ],
   "source": [
    "c = 2\n",
    "x*c"
   ]
  },
  {
   "cell_type": "markdown",
   "metadata": {},
   "source": [
    "10. Effectuer la multiplication de a et b ; commenter le résultat."
   ]
  },
  {
   "cell_type": "code",
   "execution_count": 17,
   "metadata": {},
   "outputs": [
    {
     "data": {
      "text/plain": [
       "array([ 1,  4, 15])"
      ]
     },
     "execution_count": 17,
     "metadata": {},
     "output_type": "execute_result"
    }
   ],
   "source": [
    "a * b"
   ]
  },
  {
   "cell_type": "markdown",
   "metadata": {},
   "source": [
    "11. Effectier la multiplication suivante : x*a ; commenter le résultats."
   ]
  },
  {
   "cell_type": "code",
   "execution_count": 18,
   "metadata": {},
   "outputs": [
    {
     "name": "stdout",
     "output_type": "stream",
     "text": [
      "Erreur dans x * a : operands could not be broadcast together with shapes (5,) (3,) \n"
     ]
    }
   ],
   "source": [
    "try:\n",
    "    prod_x_a = x * a\n",
    "    print(\"Multiplication de x et a :\", prod_x_a)\n",
    "except ValueError as e:\n",
    "    print(\"Erreur dans x * a :\", e)"
   ]
  },
  {
   "cell_type": "markdown",
   "metadata": {},
   "source": [
    "12. Récupérer les positions des multiples de 2 et les stocker dans un vecteur que l’on nommera ind, piuis conserver uniquement les multiples de 2 de x dans un vecteur que l’on nommera mult_2."
   ]
  },
  {
   "cell_type": "code",
   "execution_count": 19,
   "metadata": {},
   "outputs": [
    {
     "data": {
      "text/plain": [
       "array([2, 4])"
      ]
     },
     "execution_count": 19,
     "metadata": {},
     "output_type": "execute_result"
    }
   ],
   "source": [
    "ind = np.where(x%2==0)\n",
    "#stocker les multiples de 2 dans un vecteur (mult_2)\n",
    "mult_2 = x[ind]\n",
    "mult_2"
   ]
  },
  {
   "cell_type": "markdown",
   "metadata": {},
   "source": [
    "13. Afficher les éléments de x qui sont multiples de 3 et multiples de 2."
   ]
  },
  {
   "cell_type": "code",
   "execution_count": 20,
   "metadata": {},
   "outputs": [
    {
     "name": "stdout",
     "output_type": "stream",
     "text": [
      "Éléments multiples de 3 et 2 : []\n"
     ]
    }
   ],
   "source": [
    "multiples_3_et_2 = x[(x % 3 == 0) & (x % 2 == 0)]\n",
    "print(\"Éléments multiples de 3 et 2 :\", multiples_3_et_2)"
   ]
  },
  {
   "cell_type": "markdown",
   "metadata": {},
   "source": [
    "14. Afficher les éléments de x qui sont multiples de 3 ou multiples de 2."
   ]
  },
  {
   "cell_type": "code",
   "execution_count": 21,
   "metadata": {},
   "outputs": [
    {
     "name": "stdout",
     "output_type": "stream",
     "text": [
      "Éléments multiples de 3 ou 2 : [2 3 4]\n"
     ]
    }
   ],
   "source": [
    "multiples_3_ou_2 = x[(x % 3 == 0) | (x % 2 == 0)]\n",
    "print(\"Éléments multiples de 3 ou 2 :\", multiples_3_ou_2)"
   ]
  },
  {
   "cell_type": "markdown",
   "metadata": {},
   "source": [
    "15. Calculer la somme des éléments de x."
   ]
  },
  {
   "cell_type": "code",
   "execution_count": 22,
   "metadata": {},
   "outputs": [
    {
     "data": {
      "text/plain": [
       "15"
      ]
     },
     "execution_count": 22,
     "metadata": {},
     "output_type": "execute_result"
    }
   ],
   "source": [
    "x.sum()"
   ]
  },
  {
   "cell_type": "markdown",
   "metadata": {},
   "source": [
    "16. Remplacer le premier élément de x par un 4."
   ]
  },
  {
   "cell_type": "code",
   "execution_count": 23,
   "metadata": {},
   "outputs": [
    {
     "data": {
      "text/plain": [
       "array([4, 2, 3, 4, 5])"
      ]
     },
     "execution_count": 23,
     "metadata": {},
     "output_type": "execute_result"
    }
   ],
   "source": [
    "x[0] = 4\n",
    "x"
   ]
  },
  {
   "cell_type": "markdown",
   "metadata": {},
   "source": [
    "17. Remplacer le premier élément de x par la valeur NaN, puis calculer la somme des éléments de x."
   ]
  },
  {
   "cell_type": "code",
   "execution_count": 30,
   "metadata": {},
   "outputs": [
    {
     "ename": "ValueError",
     "evalue": "cannot convert float NaN to integer",
     "output_type": "error",
     "traceback": [
      "\u001b[1;31m---------------------------------------------------------------------------\u001b[0m",
      "\u001b[1;31mValueError\u001b[0m                                Traceback (most recent call last)",
      "Cell \u001b[1;32mIn[30], line 1\u001b[0m\n\u001b[1;32m----> 1\u001b[0m x[\u001b[38;5;241m0\u001b[39m] \u001b[38;5;241m=\u001b[39m np\u001b[38;5;241m.\u001b[39mnan\n\u001b[0;32m      2\u001b[0m somme_x_nan \u001b[38;5;241m=\u001b[39m np\u001b[38;5;241m.\u001b[39mnansum(x)\n",
      "\u001b[1;31mValueError\u001b[0m: cannot convert float NaN to integer"
     ]
    }
   ],
   "source": [
    "x[0] = np.nan\n",
    "somme_x_nan = np.nansum(x)"
   ]
  },
  {
   "cell_type": "markdown",
   "metadata": {},
   "source": [
    "18. Supprimer le vecteur x."
   ]
  },
  {
   "cell_type": "code",
   "execution_count": null,
   "metadata": {},
   "outputs": [],
   "source": [
    "del x\n",
    "try:\n",
    "    print(x)\n",
    "except NameError:\n",
    "    print(\"Le vecteur x a été supprimé.\")"
   ]
  },
  {
   "cell_type": "markdown",
   "metadata": {},
   "source": [
    "#### Exercice 4"
   ]
  },
  {
   "cell_type": "markdown",
   "metadata": {},
   "source": [
    "1. Créer la matrice suivante : \n",
    "$$ A = \\begin{bmatrix} -3 & 5 & 6 \\\\ -1 & 2 & 2 \\\\ 1 & -1 & -1 \\end{bmatrix} $$\n",
    "2. Afficher la dimension de A, son nombre de colonnes, son nombre de lignes et sa longueur.\n",
    "3. Extraire la seconde colonne de A, puis la première ligne. 4.Extraire l’élément en troisième position à la première ligne.\n",
    "4. Extraire la sous-matrice de dimension du coin inférieur de A, c’est-à-dire $$ \\begin{bmatrix} 2 & 2 \\\\ -1 & -1 \\end{bmatrix} $$\n",
    "5. Calculer la somme des colonnes puis des lignes de A.\n",
    "6. Afficher la diagonale de A.\n",
    "7. Rajouter le vecteur $$ \\begin{bmatrix} 1 & 2 & 3\\end{bmatrix}^\\top $$ à droite de la matrice A et stocker le résultat dans un objet appelé B.\n",
    "8. Retirer le quatrième vecteur de B.\n",
    "9. Retirer la première et la troisième ligne de B.\n",
    "10. Ajouter le scalaire 10 à A.\n",
    "11. Ajouter le vecteur $$ \\begin{bmatrix} 1 & 2 & 3\\end{bmatrix}^\\top $$ à A.\n",
    "12. Ajouter la matrice identité \\(I_3\\) à A.\n",
    "13. Diviser tous les éléments de la matrice A par 2.\n",
    "14. Multiplier la matrice A par le vecteur ligne $$ \\begin{bmatrix} 1 & 2 & 3\\end{bmatrix}^\\top $$\n",
    "15. Afficher la transposée de A.\n",
    "16. Effectuer le produit avec transposition $$ A^\\top A $$"
   ]
  },
  {
   "cell_type": "markdown",
   "metadata": {},
   "source": [
    "1. Créons la matrice : \n",
    "$$ A = \\begin{bmatrix} -3 & 5 & 6 \\\\ -1 & 2 & 2 \\\\ 1 & -1 & -1 \\end{bmatrix} $$"
   ]
  },
  {
   "cell_type": "code",
   "execution_count": null,
   "metadata": {},
   "outputs": [],
   "source": [
    "A=np.array([[-3,5,6],[-1,2,2],[1,-1,-1]])\n",
    "print(A)"
   ]
  },
  {
   "cell_type": "markdown",
   "metadata": {},
   "source": [
    "2. Afficher la dimension de A, son nombre de colonnes, son nombre de lignes et sa longueur"
   ]
  },
  {
   "cell_type": "code",
   "execution_count": null,
   "metadata": {},
   "outputs": [],
   "source": [
    "print(\"Dimension de A (lignes, colonnes) :\", A.shape)\n",
    "print(\"Nombre de lignes de A :\", A.shape[0])\n",
    "print(\"Nombre de colonnes de A :\", A.shape[1])\n",
    "print(\"Longueur de A (nombre total d'éléments) :\", A.size)"
   ]
  },
  {
   "cell_type": "markdown",
   "metadata": {},
   "source": [
    "3. Extraire la seconde colonne de A, puis la première ligne. 4.Extraire l’élément en troisième position à la première ligne."
   ]
  },
  {
   "cell_type": "code",
   "execution_count": null,
   "metadata": {},
   "outputs": [],
   "source": [
    "# Extraire la seconde colonne de A\n",
    "seconde_colonne = A[:, 1]\n",
    "print(\"Seconde colonne de A :\", seconde_colonne)\n",
    "# Extraire la première ligne de A\n",
    "prem_ligne = A[0, :]\n",
    "print(\"Première ligne de A :\", prem_ligne)\n",
    "# Extraire l'élément en troisième position à la première ligne\n",
    "element_3eme_position = A[0, 2]\n",
    "print(\"Élément en troisième position à la première ligne :\", element_3eme_position)"
   ]
  },
  {
   "cell_type": "markdown",
   "metadata": {},
   "source": [
    "4. Extraire la sous-matrice de dimension du coin inférieur de A, c’est-à-dire $$ \\begin{bmatrix} 2 & 2 \\\\ -1 & -1 \\end{bmatrix} $$"
   ]
  },
  {
   "cell_type": "code",
   "execution_count": null,
   "metadata": {},
   "outputs": [],
   "source": [
    "sous_matrice_coin_inferieur = A[1:, 1:]\n",
    "print(\"Sous-matrice du coin inférieur de A :\")\n",
    "print(sous_matrice_coin_inferieur)"
   ]
  },
  {
   "cell_type": "markdown",
   "metadata": {},
   "source": [
    "5. Calculer la somme des colonnes puis des lignes de A."
   ]
  },
  {
   "cell_type": "code",
   "execution_count": null,
   "metadata": {},
   "outputs": [],
   "source": [
    "# Calculer la somme des colonnes\n",
    "somme_colonnes = np.sum(A, axis=0)\n",
    "print(\"Somme des colonnes de A :\")\n",
    "print(somme_colonnes)\n",
    "\n",
    "# Calculer la somme des lignes\n",
    "somme_lignes = np.sum(A, axis=1)\n",
    "print(\"Somme des lignes de A :\")\n",
    "print(somme_lignes)\n"
   ]
  },
  {
   "cell_type": "markdown",
   "metadata": {},
   "source": [
    "6. Afficher la diagonale de A."
   ]
  },
  {
   "cell_type": "code",
   "execution_count": null,
   "metadata": {},
   "outputs": [],
   "source": [
    "diagonale = np.diagonal(A)\n",
    "print(\"Diagonale de A :\")\n",
    "print(diagonale)"
   ]
  },
  {
   "cell_type": "markdown",
   "metadata": {},
   "source": [
    "7. Rajouter le vecteur $$ \\begin{bmatrix} 1 & 2 & 3\\end{bmatrix}^\\top $$ à droite de la matrice A et stocker le résultat dans un objet appelé B."
   ]
  },
  {
   "cell_type": "code",
   "execution_count": null,
   "metadata": {},
   "outputs": [],
   "source": [
    "# Créer le vecteur colonne [1, 2, 3]^T (de taille 3x1)\n",
    "vecteur = np.array([[1], [2], [3]])\n",
    "print(vecteur)\n",
    "# Ajouter le vecteur à droite de la matrice A\n",
    "B = np.hstack((A, vecteur))\n",
    "print(\"Matrice A après ajout du vecteur à droite :\")\n",
    "print(B)"
   ]
  },
  {
   "cell_type": "markdown",
   "metadata": {},
   "source": [
    "8. Retirer le quatrième vecteur de B."
   ]
  },
  {
   "cell_type": "code",
   "execution_count": null,
   "metadata": {},
   "outputs": [],
   "source": [
    "B_sans_quatrieme_colonne = np.delete(B, 3, axis=1)\n",
    "print(\"Matrice B sans le quatrième vecteur (colonne) :\")\n",
    "print(B_sans_quatrieme_colonne)"
   ]
  },
  {
   "cell_type": "markdown",
   "metadata": {},
   "source": [
    "9. Retirer la première et la troisième ligne de B."
   ]
  },
  {
   "cell_type": "code",
   "execution_count": null,
   "metadata": {},
   "outputs": [],
   "source": [
    "B_sans_premiere_troisieme_ligne = np.delete(B, [0, 2], axis=0)\n",
    "print(\"Matrice B sans la première et la troisième ligne :\")\n",
    "print(B_sans_premiere_troisieme_ligne)"
   ]
  },
  {
   "cell_type": "markdown",
   "metadata": {},
   "source": [
    "10. Ajouter le scalaire 10 à A."
   ]
  },
  {
   "cell_type": "code",
   "execution_count": null,
   "metadata": {},
   "outputs": [],
   "source": [
    "A_avec_10 = A + 10\n",
    "print(\"Matrice A après ajout de 10 à chaque élément :\")\n",
    "print(A_avec_10)"
   ]
  },
  {
   "cell_type": "markdown",
   "metadata": {},
   "source": [
    "11. Ajouter le vecteur $$ \\begin{bmatrix} 1 & 2 & 3\\end{bmatrix}^\\top $$ à A."
   ]
  },
  {
   "cell_type": "code",
   "execution_count": null,
   "metadata": {},
   "outputs": [],
   "source": [
    "vecteur = np.array([[1], [2], [3]])\n",
    "A_v = np.hstack((A, vecteur))\n",
    "print(\"Matrice A après ajout du vecteur colonne :\")\n",
    "print(A_v)"
   ]
  },
  {
   "cell_type": "markdown",
   "metadata": {},
   "source": [
    "12. Ajouter la matrice identité \\(I_3\\) à A."
   ]
  },
  {
   "cell_type": "code",
   "execution_count": null,
   "metadata": {},
   "outputs": [],
   "source": [
    "I_3 = np.eye(3)\n",
    "A_I = A + I_3\n",
    "print(\"\\nMatrice A après ajout de l'identité I_3 :\")\n",
    "print(A_I)"
   ]
  },
  {
   "cell_type": "markdown",
   "metadata": {},
   "source": [
    "13. Diviser tous les éléments de la matrice A par 2."
   ]
  },
  {
   "cell_type": "code",
   "execution_count": null,
   "metadata": {},
   "outputs": [],
   "source": [
    "A_div = A / 2\n",
    "print(\"\\nMatrice A divisée par 2 :\")\n",
    "print(A_div)"
   ]
  },
  {
   "cell_type": "markdown",
   "metadata": {},
   "source": [
    "14. Multiplier la matrice A par le vecteur ligne $$ \\begin{bmatrix} 1 & 2 & 3\\end{bmatrix}^\\top $$"
   ]
  },
  {
   "cell_type": "code",
   "execution_count": null,
   "metadata": {},
   "outputs": [],
   "source": [
    "vecteur_ligne = np.array([1, 2, 3])\n",
    "A_mult_v = np.dot(A, vecteur_ligne)\n",
    "print(\"\\nMatrice A multipliée par le vecteur ligne :\")\n",
    "print(A_mult_v)"
   ]
  },
  {
   "cell_type": "markdown",
   "metadata": {},
   "source": [
    "15. Afficher la transposée de A."
   ]
  },
  {
   "cell_type": "code",
   "execution_count": null,
   "metadata": {},
   "outputs": [],
   "source": [
    "A_t = A.T\n",
    "print(\"\\nTransposée de la matrice A :\")\n",
    "print(A_t)"
   ]
  },
  {
   "cell_type": "markdown",
   "metadata": {},
   "source": [
    "16. Effectuer le produit avec transposition $$ A^\\top A $$"
   ]
  },
  {
   "cell_type": "code",
   "execution_count": null,
   "metadata": {},
   "outputs": [],
   "source": [
    "prod_trans = np.dot(A, A.T)\n",
    "print(\"\\nProduit de A avec sa transposée (A * A^T) :\")\n",
    "print(prod_trans)"
   ]
  }
 ],
 "metadata": {
  "kernelspec": {
   "display_name": "Python 3 (ipykernel)",
   "language": "python",
   "name": "python3"
  },
  "language_info": {
   "codemirror_mode": {
    "name": "ipython",
    "version": 3
   },
   "file_extension": ".py",
   "mimetype": "text/x-python",
   "name": "python",
   "nbconvert_exporter": "python",
   "pygments_lexer": "ipython3",
   "version": "3.11.7"
  }
 },
 "nbformat": 4,
 "nbformat_minor": 4
}
