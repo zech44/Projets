{
 "cells": [
  {
   "cell_type": "code",
   "execution_count": 13,
   "id": "2b350f0e-07fe-4fa0-ab1e-4ebb5c742bed",
   "metadata": {},
   "outputs": [
    {
     "name": "stdin",
     "output_type": "stream",
     "text": [
      "Devinez le nombre (entre 1 et 20) :  1\n"
     ]
    },
    {
     "name": "stdout",
     "output_type": "stream",
     "text": [
      "Trop petit.\n"
     ]
    },
    {
     "name": "stdin",
     "output_type": "stream",
     "text": [
      "Devinez le nombre (entre 1 et 20) :  4\n"
     ]
    },
    {
     "name": "stdout",
     "output_type": "stream",
     "text": [
      "Trop petit.\n"
     ]
    },
    {
     "name": "stdin",
     "output_type": "stream",
     "text": [
      "Devinez le nombre (entre 1 et 20) :  6\n"
     ]
    },
    {
     "name": "stdout",
     "output_type": "stream",
     "text": [
      "Trop grand.\n"
     ]
    },
    {
     "name": "stdin",
     "output_type": "stream",
     "text": [
      "Devinez le nombre (entre 1 et 20) :  8\n"
     ]
    },
    {
     "name": "stdout",
     "output_type": "stream",
     "text": [
      "Trop grand.\n"
     ]
    },
    {
     "name": "stdin",
     "output_type": "stream",
     "text": [
      "Devinez le nombre (entre 1 et 20) :  0\n"
     ]
    },
    {
     "name": "stdout",
     "output_type": "stream",
     "text": [
      "Trop petit.\n"
     ]
    },
    {
     "name": "stdin",
     "output_type": "stream",
     "text": [
      "Devinez le nombre (entre 1 et 20) :  5\n"
     ]
    },
    {
     "name": "stdout",
     "output_type": "stream",
     "text": [
      "Bravo ! Vous avez trouvé en 6 essai(s).\n"
     ]
    }
   ],
   "source": [
    "import random\n",
    "nombre_mystere = random.randint(1, 20)\n",
    "essai = 0\n",
    "devine = False\n",
    "while not devine:\n",
    "    nombre = int(input(\"Devinez le nombre (entre 1 et 20) : \"))\n",
    "    essai += 1\n",
    "    if nombre == nombre_mystere:\n",
    "        print(\"Bravo ! Vous avez trouvé en {} essai(s).\".format(essai))\n",
    "        devine = True\n",
    "    elif nombre < nombre_mystere:\n",
    "        print(\"Trop petit.\")\n",
    "    else:\n",
    "        print(\"Trop grand.\")"
   ]
  },
  {
   "cell_type": "code",
   "execution_count": 18,
   "id": "4965d96c-41d8-45c4-9e7f-3e4b493fbee7",
   "metadata": {},
   "outputs": [
    {
     "name": "stdin",
     "output_type": "stream",
     "text": [
      "Devinez le nombre (entre 1 et 20) :  10\n"
     ]
    },
    {
     "name": "stdout",
     "output_type": "stream",
     "text": [
      "Trop grand.\n"
     ]
    },
    {
     "name": "stdin",
     "output_type": "stream",
     "text": [
      "Devinez le nombre (entre 1 et 20) :  5\n"
     ]
    },
    {
     "name": "stdout",
     "output_type": "stream",
     "text": [
      "Trop grand.\n"
     ]
    },
    {
     "name": "stdin",
     "output_type": "stream",
     "text": [
      "Devinez le nombre (entre 1 et 20) :  3\n"
     ]
    },
    {
     "name": "stdout",
     "output_type": "stream",
     "text": [
      "Trop grand.\n"
     ]
    },
    {
     "name": "stdin",
     "output_type": "stream",
     "text": [
      "Devinez le nombre (entre 1 et 20) :  1\n"
     ]
    },
    {
     "name": "stdout",
     "output_type": "stream",
     "text": [
      "Trop petit.\n"
     ]
    },
    {
     "name": "stdin",
     "output_type": "stream",
     "text": [
      "Devinez le nombre (entre 1 et 20) :  2\n"
     ]
    },
    {
     "name": "stdout",
     "output_type": "stream",
     "text": [
      "Bravo ! Vous avez trouvé en 5 essai(s).\n"
     ]
    }
   ],
   "source": [
    "import random\n",
    "nombre_mystere = random.randint(1, 20)\n",
    "essai = 0\n",
    "devine = False\n",
    "while not devine:\n",
    "    nombre = int(input(\"Devinez le nombre (entre 1 et 20) : \"))\n",
    "    essai += 1\n",
    "    if nombre == nombre_mystere:\n",
    "        print(\"Bravo ! Vous avez trouvé en\", essai, \"essai(s).\")\n",
    "        devine = True\n",
    "    elif nombre < nombre_mystere:\n",
    "         print(\"Trop petit.\")\n",
    "    else:\n",
    "        print(\"Trop grand.\")\n"
   ]
  },
  {
   "cell_type": "code",
   "execution_count": null,
   "id": "3ea0a1e9-fcf6-4964-9940-17296cd1ce43",
   "metadata": {},
   "outputs": [],
   "source": []
  }
 ],
 "metadata": {
  "kernelspec": {
   "display_name": "Python 3 (ipykernel)",
   "language": "python",
   "name": "python3"
  },
  "language_info": {
   "codemirror_mode": {
    "name": "ipython",
    "version": 3
   },
   "file_extension": ".py",
   "mimetype": "text/x-python",
   "name": "python",
   "nbconvert_exporter": "python",
   "pygments_lexer": "ipython3",
   "version": "3.11.7"
  }
 },
 "nbformat": 4,
 "nbformat_minor": 5
}
